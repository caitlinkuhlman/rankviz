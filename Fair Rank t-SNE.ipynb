{
 "cells": [
  {
   "cell_type": "code",
   "execution_count": 1,
   "metadata": {},
   "outputs": [
    {
     "name": "stderr",
     "output_type": "stream",
     "text": [
      "C:\\Users\\Caitlin\\Anaconda3\\lib\\site-packages\\sklearn\\cross_validation.py:41: DeprecationWarning: This module was deprecated in version 0.18 in favor of the model_selection module into which all the refactored classes and functions are moved. Also note that the interface of the new CV iterators are different from that of this module. This module will be removed in 0.20.\n",
      "  \"This module will be removed in 0.20.\", DeprecationWarning)\n"
     ]
    }
   ],
   "source": [
    "import numpy as np\n",
    "import matplotlib.pyplot as plt\n",
    "from sklearn import manifold, datasets\n",
    "from scipy.stats import kendalltau, spearmanr\n",
    "import itertools\n",
    "from kendall_errors import *"
   ]
  },
  {
   "cell_type": "code",
   "execution_count": 2,
   "metadata": {
    "collapsed": true
   },
   "outputs": [],
   "source": [
    "# kendalltau(x, y, initial_lexsort=True)\n",
    "# spearmanr(x, y)[0]\n",
    "# tsne = manifold.TSNE(n_components=2, perplexity=30.0, early_exaggeration=12.0, learning_rate=200.0, n_iter=1000, n_iter_without_progress=300, \n",
    "#                      min_grad_norm=1e-07, metric='euclidean', angle=0.5)"
   ]
  },
  {
   "cell_type": "code",
   "execution_count": 3,
   "metadata": {},
   "outputs": [
    {
     "name": "stdout",
     "output_type": "stream",
     "text": [
      "n =  4\n",
      "groups [ 1.  0.  0.  1.]\n",
      "24\n"
     ]
    }
   ],
   "source": [
    "n = 4\n",
    "print(\"n = \", n)\n",
    "g0=int(n/2)\n",
    "# randomly assign balanced groups\n",
    "groups=np.append(np.zeros(g0),np.ones(n-g0))\n",
    "np.random.shuffle(groups)\n",
    "print(\"groups\",groups)\n",
    "perms =[list(x) for x in itertools.permutations(range(n))]\n",
    "print(len(perms))\n"
   ]
  },
  {
   "cell_type": "code",
   "execution_count": 4,
   "metadata": {
    "collapsed": true
   },
   "outputs": [],
   "source": [
    "# normalized version\n",
    "def kendall_eq(df):\n",
    "    p = len(df[df['g']==0])*len(df[df['g']==1])\n",
    "    g = np.array(df.sort_values('y', ascending=False)[['y_pred', 'g']])\n",
    "    e0 = 0 if p == 0 else count_inversions(g, 0, len(g)-1, merge_0_eq)[1] / p\n",
    "    e1 = 0 if p == 0 else count_inversions(g, 0, len(g)-1, merge_1_eq)[1] / p\n",
    "    return e0, e1"
   ]
  },
  {
   "cell_type": "code",
   "execution_count": 5,
   "metadata": {
    "collapsed": true
   },
   "outputs": [],
   "source": [
    "def kendall_parity(df):\n",
    "    df.sort_values('y_pred', ascending=False, inplace=True)\n",
    "    p = len(df[df['g']==0])*len(df[df['g']==1])\n",
    "    g = np.array(df.sort_values('y', ascending=False)[['y_pred', 'g']])\n",
    "    e0 = 0 if p == 0 else count_inversions(g, 0, len(g)-1, merge_parity_0)[1] / p\n",
    "    e1 = 0 if p == 0 else count_inversions(g, 0, len(g)-1, merge_parity_1)[1] / p\n",
    "    if(len(df[df['g']==1]) == 0):\n",
    "        #if there are no group 1 items, group 0 always preferred\n",
    "        e0 = 1\n",
    "    if(len(df[df['g']==0]) == 0):\n",
    "        #if there are no group 0 items, group 1 always preferred\n",
    "        e1 = 1\n",
    "    return e0, e1"
   ]
  },
  {
   "cell_type": "code",
   "execution_count": 6,
   "metadata": {
    "collapsed": true
   },
   "outputs": [],
   "source": [
    "def kendall_cal(df):\n",
    "    df.sort_values('y_pred', ascending=False, inplace=True)\n",
    "    p0 = pairs(len(df)) - pairs(len(df[df['g']==1]))\n",
    "    p1 = pairs(len(df)) - pairs(len(df[df['g']==0]))\n",
    "    g = np.array(df.sort_values('y', ascending=False)[['y_pred', 'g']])\n",
    "    e0 = 0 if p0 == 0 else count_inversions(g, 0, len(g)-1, merge_0_cal)[1] / p0\n",
    "    e1 = 0 if p1 == 0 else count_inversions(g, 0, len(g)-1, merge_1_cal)[1] / p1\n",
    "    return e0, e1"
   ]
  },
  {
   "cell_type": "code",
   "execution_count": 16,
   "metadata": {
    "collapsed": true
   },
   "outputs": [],
   "source": [
    "# have to initialize comparison functions with group assignments for canonical ranking\n",
    "# TODO: make real class with initialization function\n",
    "\n",
    "\n",
    "# TODO: there is some normalization happening in the t-sne function. \n",
    "# Either need to turn this off, or precomute the distance patrix\n",
    "def rank_cal(p1,p2):\n",
    "#     print(p1,p2)\n",
    "    df = pd.DataFrame()\n",
    "    df['y']=p1\n",
    "    g1 = [groups[int(x)] for x in p1]\n",
    "    df['g']=[g1[int(x)] for x in p2]\n",
    "    df['y_pred']=p2\n",
    "    e0,e1 = kendall_cal(df)\n",
    "    return (e0,e1)\n",
    "#     return abs(e0-e1)\n",
    "#     if (e0 - e1) == 0.0:\n",
    "#         return 0.0\n",
    "#     else:\n",
    "#         return 1.0\n",
    "\n",
    "def rank_eq(p1,p2):\n",
    "    df = pd.DataFrame()\n",
    "    df['y']=p1\n",
    "    g1 = [groups[int(x)] for x in p1]\n",
    "    df['g']=[g1[int(x)] for x in p2]\n",
    "    df['y_pred']=p2\n",
    "    print(df)\n",
    "    e0,e1 = kendall_eq(df)\n",
    "    return (e0,e1)\n",
    "#     return abs(e0-e1)\n",
    "#     if (e0 - e1) == 0.0:\n",
    "#         return 0.0\n",
    "#     else:\n",
    "#         return 1.0\n",
    "\n",
    "def rank_par(p1,p2):\n",
    "    df = pd.DataFrame()\n",
    "    df['y']=p1\n",
    "    g1 = [groups[int(x)] for x in p1]\n",
    "    df['g']=[g1[int(x)] for x in p2]\n",
    "    df['y_pred']=p2\n",
    "    print(df)\n",
    "    e0,e1 = kendall_parity(df)\n",
    "    return (e0,e1)\n",
    "#     return abs(e0-e1)\n",
    "#     if (e0 - e1) == 0.0:\n",
    "#         return 0.0\n",
    "#     else:\n",
    "#         return 1.0"
   ]
  },
  {
   "cell_type": "code",
   "execution_count": 17,
   "metadata": {},
   "outputs": [
    {
     "name": "stdout",
     "output_type": "stream",
     "text": [
      "   y  g  y_pred\n",
      "0  0  1       5\n",
      "1  1  1       4\n",
      "2  2  0       3\n",
      "3  3  1       2\n",
      "4  4  0       1\n",
      "5  5  0       0\n",
      "(0.8888888888888888, 0.1111111111111111)\n",
      "(1.0, 1.0)\n",
      "   y  g  y_pred\n",
      "0  0  1       5\n",
      "1  1  1       4\n",
      "2  2  0       3\n",
      "3  3  1       2\n",
      "4  4  0       1\n",
      "5  5  0       0\n",
      "(0.8888888888888888, 0.1111111111111111)\n"
     ]
    }
   ],
   "source": [
    "# TESTING error functions\n",
    "groups=[0,0,1,0,1,1]\n",
    "\n",
    "print(rank_eq([0,1,2,3,4,5],[5,4,3,2,1,0]))\n",
    "print(rank_cal([0,1,2,3,4,5],[5,4,3,2,1,0]))\n",
    "print(rank_par([0,1,2,3,4,5],[5,4,3,2,1,0]))"
   ]
  },
  {
   "cell_type": "code",
   "execution_count": 8,
   "metadata": {
    "collapsed": true
   },
   "outputs": [],
   "source": [
    "colors = [rank_par(range(len(x)),x) for x in perms]\n",
    "# print(colors)"
   ]
  },
  {
   "cell_type": "code",
   "execution_count": 9,
   "metadata": {
    "collapsed": true
   },
   "outputs": [],
   "source": [
    "# tsne = manifold.TSNE(perplexity=3, metric=rank_cal)\n",
    "# Y = tsne.fit_transform(perms)\n",
    "# a= np.array([Y[i] for i,x in enumerate(colors) if x==0.0])\n",
    "# plt.scatter(a[:,0], a[:,1])\n",
    "# plt.xlim(300,-300)\n",
    "# plt.ylim(300,-300)\n",
    "# #     plt.scatter(Y[:,0], Y[:,1], c=colors)\n",
    "# #     plt.legend(colors)\n",
    "# print(\"perplexity \", perplexity)\n",
    "# plt.show()"
   ]
  },
  {
   "cell_type": "code",
   "execution_count": 10,
   "metadata": {
    "collapsed": true,
    "scrolled": false
   },
   "outputs": [],
   "source": [
    "# perplexities = [3,5,7,10]\n",
    "# print(\"metric Calibration\")\n",
    "# for i, perplexity in enumerate(perplexities):\n",
    "#     tsne = manifold.TSNE(perplexity=perplexity, metric=rank_cal)\n",
    "#     Y = tsne.fit_transform(perms)\n",
    "#     plt.scatter(Y[:,0], Y[:,1], c=colors)\n",
    "#     print(\"perplexity \", perplexity)\n",
    "#     plt.show()\n"
   ]
  },
  {
   "cell_type": "code",
   "execution_count": 100,
   "metadata": {},
   "outputs": [
    {
     "name": "stdout",
     "output_type": "stream",
     "text": [
      "metric Parity\n",
      "perplexity  3\n"
     ]
    },
    {
     "data": {
      "image/png": "[encoded data removed]",
      "text/plain": [
       "<matplotlib.figure.Figure at 0x4145798ba8>"
      ]
     },
     "metadata": {},
     "output_type": "display_data"
    },
    {
     "name": "stdout",
     "output_type": "stream",
     "text": [
      "perplexity  5\n"
     ]
    },
    {
     "data": {
      "image/png": "[encoded data removed]",
      "text/plain": [
       "<matplotlib.figure.Figure at 0x414b6c0b38>"
      ]
     },
     "metadata": {},
     "output_type": "display_data"
    },
    {
     "name": "stdout",
     "output_type": "stream",
     "text": [
      "perplexity  7\n"
     ]
    },
    {
     "data": {
      "image/png": "[encoded data removed]",
      "text/plain": [
       "<matplotlib.figure.Figure at 0x414772fd30>"
      ]
     },
     "metadata": {},
     "output_type": "display_data"
    },
    {
     "name": "stdout",
     "output_type": "stream",
     "text": [
      "perplexity  10\n"
     ]
    },
    {
     "data": {
      "image/png": "[encoded data removed]",
      "text/plain": [
       "<matplotlib.figure.Figure at 0x414a207940>"
      ]
     },
     "metadata": {},
     "output_type": "display_data"
    }
   ],
   "source": [
    "perplexities = [3, 5, 7, 10]\n",
    "print(\"metric Parity\")\n",
    "for i, perplexity in enumerate(perplexities):\n",
    "#     tsne = manifold.TSNE(perplexity=perplexity, metric='euclidean')\n",
    "    tsne = manifold.TSNE(perplexity=perplexity, metric=rank_par)\n",
    "    Y = tsne.fit_transform(perms)\n",
    "    plt.scatter(Y[:,0], Y[:,1], c=colors)\n",
    "    print(\"perplexity \", perplexity)\n",
    "#     plt.show()\n",
    "    plt.savefig(\"rank_par\"+str(perplexity)+\".png\")\n",
    "    plt.clf()\n"
   ]
  },
  {
   "cell_type": "code",
   "execution_count": 101,
   "metadata": {},
   "outputs": [
    {
     "name": "stdout",
     "output_type": "stream",
     "text": [
      "perplexity  3\n",
      "perplexity  5\n",
      "perplexity  7\n",
      "perplexity  10\n"
     ]
    }
   ],
   "source": [
    "perplexities = [3,5,7,10]\n",
    "for i, perplexity in enumerate(perplexities):\n",
    "#     tsne = manifold.TSNE(perplexity=perplexity, metric='euclidean')\n",
    "    tsne = manifold.TSNE(perplexity=perplexity, metric=rank_eq)\n",
    "    Y = tsne.fit_transform(perms)\n",
    "    plt.scatter(Y[:,0], Y[:,1], c=colors)\n",
    "    print(\"perplexity \", perplexity)\n",
    "#     for i,c in enumerate(colors):\n",
    "#         plt.text(Y[i,0]+0.5, Y[i,1]+0.5, c, fontsize=9)\n",
    "\n",
    "    plt.savefig(\"rank_eq\"+str(perplexity)+\".png\")\n",
    "    plt.clf()\n",
    "#     plt.show()\n"
   ]
  },
  {
   "cell_type": "code",
   "execution_count": 102,
   "metadata": {
    "collapsed": true
   },
   "outputs": [],
   "source": [
    "def tau(x, y):\n",
    "    return kendalltau(x,y)[0]"
   ]
  },
  {
   "cell_type": "code",
   "execution_count": 103,
   "metadata": {},
   "outputs": [
    {
     "name": "stdout",
     "output_type": "stream",
     "text": [
      "metric Kendall\n",
      "perplexity  5\n",
      "perplexity  7\n",
      "perplexity  10\n"
     ]
    }
   ],
   "source": [
    "perplexities = [5,7,10]\n",
    "print(\"metric Kendall\")\n",
    "for i, perplexity in enumerate(perplexities):\n",
    "    tsne = manifold.TSNE(perplexity=perplexity, metric=tau)\n",
    "    Y = tsne.fit_transform(perms)\n",
    "    plt.scatter(Y[:,0], Y[:,1], c=colors)\n",
    "    print(\"perplexity \", perplexity)\n",
    "#     plt.show()\n",
    "    plt.savefig(\"kendall\"+str(perplexity)+\".png\")\n",
    "    plt.clf()"
   ]
  },
  {
   "cell_type": "code",
   "execution_count": null,
   "metadata": {
    "collapsed": true
   },
   "outputs": [],
   "source": [
    "# TSNE(n_components=2, perplexity=30.0, early_exaggeration=12.0, learning_rate=200.0, n_iter=1000, n_iter_without_progress=300, min_grad_norm=1e-07, metric=’euclidean’, \n",
    "# init=’random’, verbose=0, random_state=None, method=’barnes_hut’, angle=0.5)"
   ]
  },
  {
   "cell_type": "code",
   "execution_count": null,
   "metadata": {
    "collapsed": true
   },
   "outputs": [],
   "source": []
  },
  {
   "cell_type": "code",
   "execution_count": 21,
   "metadata": {
    "collapsed": true
   },
   "outputs": [],
   "source": [
    "n_samples = 300\n",
    "n_components = 2\n",
    "(fig, subplots) = plt.subplots(3, 5, figsize=(15, 8))\n",
    "perplexities = [5, 30, 50, 100]\n",
    "\n",
    "X, y = datasets.make_circles(n_samples=n_samples, factor=.5, noise=.05)\n"
   ]
  },
  {
   "cell_type": "code",
   "execution_count": null,
   "metadata": {
    "collapsed": true
   },
   "outputs": [],
   "source": [
    "\n",
    "\n",
    "red = y == 0\n",
    "green = y == 1\n",
    "\n",
    "ax = subplots[0][0]\n",
    "ax.scatter(X[red, 0], X[red, 1], c=\"r\")\n",
    "ax.scatter(X[green, 0], X[green, 1], c=\"g\")\n",
    "ax.xaxis.set_major_formatter(NullFormatter())\n",
    "ax.yaxis.set_major_formatter(NullFormatter())\n",
    "plt.axis('tight')\n",
    "\n",
    "for i, perplexity in enumerate(perplexities):\n",
    "    ax = subplots[0][i + 1]\n",
    "\n",
    "    t0 = time()\n",
    "    tsne = manifold.TSNE(n_components=n_components, init='random',\n",
    "                         random_state=0, perplexity=perplexity)\n",
    "    Y = tsne.fit_transform(X)\n",
    "    t1 = time()\n",
    "    print(\"circles, perplexity=%d in %.2g sec\" % (perplexity, t1 - t0))\n",
    "    ax.set_title(\"Perplexity=%d\" % perplexity)\n",
    "    ax.scatter(Y[red, 0], Y[red, 1], c=\"r\")\n",
    "    ax.scatter(Y[green, 0], Y[green, 1], c=\"g\")\n",
    "    ax.xaxis.set_major_formatter(NullFormatter())\n",
    "    ax.yaxis.set_major_formatter(NullFormatter())\n",
    "    ax.axis('tight')\n",
    "\n",
    "# Another example using s-curve\n",
    "X, color = datasets.samples_generator.make_s_curve(n_samples, random_state=0)\n",
    "\n",
    "ax = subplots[1][0]\n",
    "ax.scatter(X[:, 0], X[:, 2], c=color)\n",
    "ax.xaxis.set_major_formatter(NullFormatter())\n",
    "ax.yaxis.set_major_formatter(NullFormatter())\n",
    "\n",
    "for i, perplexity in enumerate(perplexities):\n",
    "    ax = subplots[1][i + 1]\n",
    "\n",
    "    t0 = time()\n",
    "    tsne = manifold.TSNE(n_components=n_components, init='random',\n",
    "                         random_state=0, perplexity=perplexity)\n",
    "    Y = tsne.fit_transform(X)\n",
    "    t1 = time()\n",
    "    print(\"S-curve, perplexity=%d in %.2g sec\" % (perplexity, t1 - t0))\n",
    "\n",
    "    ax.set_title(\"Perplexity=%d\" % perplexity)\n",
    "    ax.scatter(Y[:, 0], Y[:, 1], c=color)\n",
    "    ax.xaxis.set_major_formatter(NullFormatter())\n",
    "    ax.yaxis.set_major_formatter(NullFormatter())\n",
    "    ax.axis('tight')\n",
    "\n",
    "\n",
    "# Another example using a 2D uniform grid\n",
    "x = np.linspace(0, 1, int(np.sqrt(n_samples)))\n",
    "xx, yy = np.meshgrid(x, x)\n",
    "X = np.hstack([\n",
    "    xx.ravel().reshape(-1, 1),\n",
    "    yy.ravel().reshape(-1, 1),\n",
    "])\n",
    "color = xx.ravel()\n",
    "ax = subplots[2][0]\n",
    "ax.scatter(X[:, 0], X[:, 1], c=color)\n",
    "ax.xaxis.set_major_formatter(NullFormatter())\n",
    "ax.yaxis.set_major_formatter(NullFormatter())\n",
    "\n",
    "for i, perplexity in enumerate(perplexities):\n",
    "    ax = subplots[2][i + 1]\n",
    "\n",
    "    t0 = time()\n",
    "    tsne = manifold.TSNE(n_components=n_components, init='random',\n",
    "                         random_state=0, perplexity=perplexity)\n",
    "    Y = tsne.fit_transform(X)\n",
    "    t1 = time()\n",
    "    print(\"uniform grid, perplexity=%d in %.2g sec\" % (perplexity, t1 - t0))\n",
    "\n",
    "    ax.set_title(\"Perplexity=%d\" % perplexity)\n",
    "    ax.scatter(Y[:, 0], Y[:, 1], c=color)\n",
    "    ax.xaxis.set_major_formatter(NullFormatter())\n",
    "    ax.yaxis.set_major_formatter(NullFormatter())\n",
    "    ax.axis('tight')\n",
    "\n",
    "\n",
    "plt.show()"
   ]
  },
  {
   "cell_type": "code",
   "execution_count": 84,
   "metadata": {
    "collapsed": true
   },
   "outputs": [],
   "source": [
    "# \n",
    "# def rank_cal(p):\n",
    "#     df = pd.DataFrame()\n",
    "#     df['y']=range(len(p))\n",
    "#     df['g']=[groups[x] for x in p]\n",
    "#     df['y_pred']=p\n",
    "#     e0,e1 = kendall_cal(df)\n",
    "#     return abs(e0-e1)\n",
    "\n",
    "# def rank_eq(p):\n",
    "#     df = pd.DataFrame()\n",
    "#     df['y']=range(len(p))\n",
    "#     df['g']=[groups[x] for x in p]\n",
    "#     df['y_pred']=p\n",
    "#     e0,e1 = kendall_eq(df)\n",
    "#     return abs(e0-e1)\n",
    "\n",
    "# def rank_par(p):\n",
    "#     df = pd.DataFrame()\n",
    "#     df['y']=range(len(p))\n",
    "#     df['g']=[groups[x] for x in p]\n",
    "#     df['y_pred']=p\n",
    "#     e0,e1 = kendall_parity(df)\n",
    "#     return abs(e0-e1)\n",
    "\n",
    "\n",
    "# # TESTING error functions\n",
    "# print(\"n = \", n)\n",
    "# g0=int(n/2)\n",
    "# groups=np.append(np.zeros(g0),np.ones(n-g0))\n",
    "# np.random.shuffle(groups)\n",
    "# print(\"groups\",groups)\n",
    "# perms =[list(x) for x in itertools.permutations(range(n))]\n",
    "# print(len(perms))\n",
    "\n",
    "# groups=[0,0,1,0,1,1]\n",
    "\n",
    "# print(rank_eq([5,4,3,2,1,0]))\n",
    "# print(rank_par([5,4,3,2,1,0]))\n",
    "# print(rank_cal([5,4,3,2,1,0]))"
   ]
  }
 ],
 "metadata": {
  "kernelspec": {
   "display_name": "Python 3",
   "language": "python",
   "name": "python3"
  },
  "language_info": {
   "codemirror_mode": {
    "name": "ipython",
    "version": 3
   },
   "file_extension": ".py",
   "mimetype": "text/x-python",
   "name": "python",
   "nbconvert_exporter": "python",
   "pygments_lexer": "ipython3",
   "version": "3.6.3"
  }
 },
 "nbformat": 4,
 "nbformat_minor": 2
}
